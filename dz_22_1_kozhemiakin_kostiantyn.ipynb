{
 "cells": [
  {
   "cell_type": "code",
   "execution_count": 27,
   "id": "f79906a7",
   "metadata": {},
   "outputs": [
    {
     "name": "stdout",
     "output_type": "stream",
     "text": [
      "32 students out of 37 got fives\n"
     ]
    }
   ],
   "source": [
    "total_stud = 37\n",
    "math_five = 15\n",
    "phys_five = 16\n",
    "chem_five = 19\n",
    "all_five = 4\n",
    "math_phys_five = 7\n",
    "phis_chem_five = 6\n",
    "chem_math_five = 9\n",
    "\n",
    "only_math_phys_five = math_phys_five - all_five\n",
    "only_phis_chem_five = phis_chem_five - all_five\n",
    "only_chem_math_five = chem_math_five - all_five\n",
    "\n",
    "only_math_five = math_five - only_math_phys_five - only_chem_math_five - all_five\n",
    "only_phys_five = phys_five - only_phis_chem_five - only_math_phys_five - all_five\n",
    "only_chem_five = chem_five - only_chem_math_five - only_phis_chem_five - all_five\n",
    "\n",
    "at_least_one_five = (only_math_phys_five + only_phis_chem_five + only_chem_math_five + \n",
    "                    only_math_five + only_phys_five + only_chem_five + all_five)\n",
    "print(f\"{at_least_one_five} students out of {total_stud} got fives\")\n"
   ]
  },
  {
   "cell_type": "code",
   "execution_count": 26,
   "id": "b26a5fdb",
   "metadata": {},
   "outputs": [
    {
     "name": "stdout",
     "output_type": "stream",
     "text": [
      "15 days out of 30 had good weather\n"
     ]
    }
   ],
   "source": [
    "total_day = 30\n",
    "rain_day = 12\n",
    "wind_day = 8\n",
    "cold_day = 4\n",
    "all_day_good = 1\n",
    "rain_wind_day = 5\n",
    "phis_cold_day = 2\n",
    "cold_rain_day = 3\n",
    "\n",
    "only_rain_wind_day = rain_wind_day - all_day_good\n",
    "only_phis_cold_day = phis_cold_day - all_day_good\n",
    "only_cold_rain_day = cold_rain_day - all_day_good\n",
    "\n",
    "only_rain_day = rain_day - only_rain_wind_day - only_cold_rain_day - all_day_good\n",
    "only_wind_day = wind_day - only_phis_cold_day - only_rain_wind_day - all_day_good\n",
    "only_cold_day = cold_day - only_cold_rain_day - only_phis_cold_day - all_day_good\n",
    "\n",
    "good_weather_day = (total_day - only_rain_wind_day - only_phis_cold_day - only_cold_rain_day - \n",
    "                    only_rain_day - only_wind_day - only_cold_day - all_day_good)\n",
    "print(f\"{good_weather_day} days out of {total_day} had good weather\")"
   ]
  },
  {
   "cell_type": "code",
   "execution_count": null,
   "id": "5c2a7d89",
   "metadata": {},
   "outputs": [],
   "source": []
  }
 ],
 "metadata": {
  "kernelspec": {
   "display_name": "Python 3",
   "language": "python",
   "name": "python3"
  },
  "language_info": {
   "codemirror_mode": {
    "name": "ipython",
    "version": 3
   },
   "file_extension": ".py",
   "mimetype": "text/x-python",
   "name": "python",
   "nbconvert_exporter": "python",
   "pygments_lexer": "ipython3",
   "version": "3.9.1"
  }
 },
 "nbformat": 4,
 "nbformat_minor": 5
}
